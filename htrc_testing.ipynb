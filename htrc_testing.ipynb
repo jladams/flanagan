{
 "cells": [
  {
   "cell_type": "code",
   "execution_count": 9,
   "metadata": {
    "collapsed": false
   },
   "outputs": [
    {
     "name": "stdout",
     "output_type": "stream",
     "text": [
      "hvd.32044078568482 - Cases determined by the St. Louis, Kansas City and Springfield Courts of Appeals of the state of Missouri.\n",
      "hvd.32044078689999 - Reports of cases determined in the Appellate Courts of Illinois.\n",
      "hvd.hnvdp1 - Spiritual philosophy: founded on the teaching of the late Samuel Taylor Coleridge: by the late Joseph Henry Green ... Ed., with a memoir of the author's life, by John Simon ...\n",
      "hvd.hwjues - Ó locura ó santidad / por José Echegaray ; with introduction and notes by J. Geddes and Freeman M. Josselyn.\n",
      "hvd.hxg178 - Mémoires du comte Fortuné Guyon de Rochecotte ... en 1795-96-97 et 98; rédigés sur ses papiers et sur les notes de ses principaux officiers, par M. Alphonse de Beauchamp, avec les pièces justificatives: Ouvrage faisant partie de l'Histoire générale de la guerre de la Vendée et des Chouans du mème auteur.\n"
     ]
    }
   ],
   "source": [
    "import glob\n",
    "import pandas as pd\n",
    "from htrc_features import FeatureReader\n",
    "paths = glob.glob('data/sample/*.json.bz2')\n",
    "fr = FeatureReader(paths[5:10])\n",
    "for vol in fr.volumes():\n",
    "    print(\"%s - %s\" % (vol.id, vol.title))"
   ]
  },
  {
   "cell_type": "code",
   "execution_count": 10,
   "metadata": {
    "collapsed": false
   },
   "outputs": [
    {
     "data": {
      "text/plain": [
       "<htrc_features.feature_reader.Volume at 0x116284438>"
      ]
     },
     "execution_count": 10,
     "metadata": {},
     "output_type": "execute_result"
    }
   ],
   "source": [
    "vol = fr.first()\n",
    "vol"
   ]
  },
  {
   "cell_type": "code",
   "execution_count": 11,
   "metadata": {
    "collapsed": false
   },
   "outputs": [
    {
     "data": {
      "text/plain": [
       "'Volume hvd.32044078568482 is a 858 page text written in eng. You can doublecheck at http://hdl.handle.net/2027/hvd.32044078568482'"
      ]
     },
     "execution_count": 11,
     "metadata": {},
     "output_type": "execute_result"
    }
   ],
   "source": [
    "\"Volume %s is a %s page text written in %s. You can doublecheck at %s\" % (vol.id, vol.page_count, vol.language, vol.handle_url)"
   ]
  },
  {
   "cell_type": "code",
   "execution_count": 12,
   "metadata": {
    "collapsed": false
   },
   "outputs": [
    {
     "name": "stdout",
     "output_type": "stream",
     "text": [
      "<page 00000001 of volume hvd.32044078568482>\n"
     ]
    }
   ],
   "source": [
    "i = 0\n",
    "for page in vol:\n",
    "    i += 1\n",
    "    if i <= 16:\n",
    "        break\n",
    "print(page)"
   ]
  },
  {
   "cell_type": "code",
   "execution_count": 13,
   "metadata": {
    "collapsed": false
   },
   "outputs": [
    {
     "name": "stdout",
     "output_type": "stream",
     "text": [
      "Columbia, Mo., E. W. Stephens\n",
      "Chicago, Callaghan\n",
      "London, Cambridge, Macmillan and co., 1865\n",
      "Boston : D.C. Heath & Co., c1901\n",
      "Paris, A. Eymery, 1818\n"
     ]
    }
   ],
   "source": [
    "for vol in fr.volumes():\n",
    "    print(vol.metadata['published'][0])"
   ]
  },
  {
   "cell_type": "code",
   "execution_count": 14,
   "metadata": {
    "collapsed": false
   },
   "outputs": [
    {
     "name": "stdout",
     "output_type": "stream",
     "text": [
      "METADATA FIELDS: mainauthor, title_ab, htsource, published, author2, sdrnum, oclc, title_top, title_c, htrc_charCount, title_a, author, htrc_pageCount, format, htrc_gender, authorSort, author_top, author_only, id, htrc_wordCount, language, htrc_volumePageCountBin, genre, publishDateRange, publication_place, ht_id, fullrecord, htrc_genderUnknown, htrc_genderMale, title, publishDate, htrc_volumeWordCountBin, publisher, _version_\n"
     ]
    }
   ],
   "source": [
    "print(\"METADATA FIELDS: \" + \", \".join(vol.metadata.keys()))"
   ]
  },
  {
   "cell_type": "code",
   "execution_count": null,
   "metadata": {
    "collapsed": true
   },
   "outputs": [],
   "source": []
  }
 ],
 "metadata": {
  "kernelspec": {
   "display_name": "Python 3",
   "language": "python",
   "name": "python3"
  },
  "language_info": {
   "codemirror_mode": {
    "name": "ipython",
    "version": 3
   },
   "file_extension": ".py",
   "mimetype": "text/x-python",
   "name": "python",
   "nbconvert_exporter": "python",
   "pygments_lexer": "ipython3",
   "version": "3.5.2"
  }
 },
 "nbformat": 4,
 "nbformat_minor": 0
}
